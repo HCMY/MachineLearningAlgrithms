{
 "cells": [
  {
   "cell_type": "code",
   "execution_count": 9,
   "metadata": {
    "collapsed": true
   },
   "outputs": [],
   "source": [
    "import pandas as pd\n",
    "import numpy as np\n",
    "from sklearn import feature_extraction "
   ]
  },
  {
   "cell_type": "code",
   "execution_count": 4,
   "metadata": {},
   "outputs": [],
   "source": [
    "import dataset\n",
    "import pandas as pd\n",
    "import numpy as np\n",
    "from feature import FeatureExtractor, get_feature\n",
    "from sklearn.externals import joblib"
   ]
  },
  {
   "cell_type": "code",
   "execution_count": 22,
   "metadata": {},
   "outputs": [],
   "source": [
    "from sklearn.metrics import accuracy_score\n",
    "from sklearn.metrics import f1_score\n",
    "from sklearn import metrics"
   ]
  },
  {
   "cell_type": "markdown",
   "metadata": {},
   "source": [
    "## pre-load data"
   ]
  },
  {
   "cell_type": "code",
   "execution_count": 5,
   "metadata": {},
   "outputs": [
    {
     "name": "stdout",
     "output_type": "stream",
     "text": [
      "all samples=  (2101904, 2)\n",
      "dataY contains: [0 1]\n"
     ]
    }
   ],
   "source": [
    "data = dataset.load_data()\n",
    "data = pd.DataFrame(data, columns=['domain', 'label'])\n",
    "data = data.drop_duplicates(subset='domain')\n",
    "data = np.array(data)\n",
    "print(\"all samples= \",data.shape)\n",
    "print(\"dataY contains:\", np.unique(data[:,1]))"
   ]
  },
  {
   "cell_type": "code",
   "execution_count": 6,
   "metadata": {},
   "outputs": [],
   "source": [
    "trainX = data[:50000,0]\n",
    "trainY = data[:50000,1].astype(int) \n",
    "testX = data[50000:51000, 0]\n",
    "testY = data[50000:51000, 1].astype(int)"
   ]
  },
  {
   "cell_type": "code",
   "execution_count": 7,
   "metadata": {},
   "outputs": [
    {
     "name": "stdout",
     "output_type": "stream",
     "text": [
      "extracting count_aeiou....\n",
      "extracted count_aeiou, shape is 50000\n",
      "\n",
      "extracting unique_rate....\n",
      "extracted unique_rate, shape is 50000\n",
      "\n",
      "extracting jarccard_index....\n",
      "extracted jarccard_index.....\n",
      "\n",
      "extracting entropy....\n",
      "extracted entropy, shape is 50000\n",
      "\n",
      "extracting n_grame....\n",
      "extracted n_grame, shape is 50000\n",
      "\n",
      "merge all features on domains...\n",
      "merged all features, shape is 50000\n",
      "\n",
      "extracting count_aeiou....\n",
      "extracted count_aeiou, shape is 1000\n",
      "\n",
      "extracting unique_rate....\n",
      "extracted unique_rate, shape is 1000\n",
      "\n",
      "extracting jarccard_index....\n",
      "extracted jarccard_index.....\n",
      "\n",
      "extracting entropy....\n",
      "extracted entropy, shape is 1000\n",
      "\n",
      "extracting n_grame....\n",
      "extracted n_grame, shape is 1000\n",
      "\n",
      "merge all features on domains...\n",
      "merged all features, shape is 1000\n",
      "\n"
     ]
    }
   ],
   "source": [
    "trainX = get_feature(trainX)\n",
    "testX = get_feature(testX)"
   ]
  },
  {
   "cell_type": "markdown",
   "metadata": {
    "collapsed": true
   },
   "source": [
    "## various models"
   ]
  },
  {
   "cell_type": "code",
   "execution_count": 12,
   "metadata": {
    "collapsed": true
   },
   "outputs": [],
   "source": [
    "from sklearn.linear_model import LogisticRegression\n",
    "from sklearn.svm import SVC\n",
    "from sklearn.ensemble import GradientBoostingClassifier"
   ]
  },
  {
   "cell_type": "code",
   "execution_count": 26,
   "metadata": {},
   "outputs": [],
   "source": [
    "def metric_me(y_true, y_pred):\n",
    "    accuracy = accuracy_score(y_true, y_pred)\n",
    "    f1 =f1_score(y_true, y_pred)\n",
    "    \n",
    "    return accuracy, f1"
   ]
  },
  {
   "cell_type": "code",
   "execution_count": 29,
   "metadata": {},
   "outputs": [
    {
     "name": "stdout",
     "output_type": "stream",
     "text": [
      "simpleLR acc=0.902 f1=0.9006085192697769\n",
      "simpleSVM acc=0.938 f1=0.9356846473029046\n",
      "simpleGBM acc=0.933 f1=0.9307135470527403\n"
     ]
    }
   ],
   "source": [
    "simpleLR = LogisticRegression()\n",
    "simpleLR.fit(trainX, trainY)\n",
    "pred_y = simpleLR.predict(testX)\n",
    "acc, f1 = metric_me(testY, pred_y)\n",
    "print(\"simpleLR acc={} f1={}\".format(acc, f1))\n",
    "######################################################################\n",
    "simpleSVM = SVC()\n",
    "simpleSVM.fit(trainX,trainY)\n",
    "pred_y = simpleSVM.predict(testX)\n",
    "acc, f1 = metric_me(testY, pred_y)\n",
    "print(\"simpleSVM acc={} f1={}\".format(acc, f1))\n",
    "###########################################################################3\n",
    "simpleGBM = GradientBoostingClassifier()\n",
    "simpleGBM.fit(trainX, trainY)\n",
    "pred_y = simpleGBM.predict(testX)\n",
    "acc, f1= metric_me(testY, pred_y)\n",
    "print(\"simpleGBM acc={} f1={}\".format(acc, f1))\n"
   ]
  },
  {
   "cell_type": "code",
   "execution_count": 33,
   "metadata": {},
   "outputs": [
    {
     "name": "stdout",
     "output_type": "stream",
     "text": [
      "extracting count_aeiou....\n",
      "extracted count_aeiou, shape is 1\n",
      "\n",
      "extracting unique_rate....\n",
      "extracted unique_rate, shape is 1\n",
      "\n",
      "extracting jarccard_index....\n",
      "extracted jarccard_index.....\n",
      "\n",
      "extracting entropy....\n",
      "extracted entropy, shape is 1\n",
      "\n",
      "extracting n_grame....\n",
      "extracted n_grame, shape is 1\n",
      "\n",
      "merge all features on domains...\n",
      "merged all features, shape is 1\n",
      "\n"
     ]
    },
    {
     "data": {
      "text/plain": [
       "array([1])"
      ]
     },
     "execution_count": 33,
     "metadata": {},
     "output_type": "execute_result"
    }
   ],
   "source": [
    "X = get_feature(['www.baidu.com'])\n",
    "simpleGBM.predict(X)"
   ]
  }
 ],
 "metadata": {
  "kernelspec": {
   "display_name": "Python 3",
   "language": "python",
   "name": "python3"
  },
  "language_info": {
   "codemirror_mode": {
    "name": "ipython",
    "version": 3
   },
   "file_extension": ".py",
   "mimetype": "text/x-python",
   "name": "python",
   "nbconvert_exporter": "python",
   "pygments_lexer": "ipython3",
   "version": "3.6.5"
  }
 },
 "nbformat": 4,
 "nbformat_minor": 2
}
