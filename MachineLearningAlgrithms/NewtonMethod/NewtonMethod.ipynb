{
 "cells": [
  {
   "cell_type": "markdown",
   "metadata": {},
   "source": [
    "\n",
    "#牛顿法和拟牛顿法是是求解最优化问题（函数）的常用方法，具有收敛速度快的特点。\n",
    "\n",
    "##牛顿法\n",
    "\n",
    "考虑无约束最优化问题：其中$x$为目标函数的极小值点\n",
    "$$\\min_{\\tiny x \\in R^n} {f(x)}$$        \n",
    "假设$f(x)$具有二阶连续偏导数，若第${\\tiny k}$次迭代值为$x_{\\tiny k}$,则可将$f(x)$在$x_{\\tiny k}$附近二阶泰勒展开：二阶泰勒公式可以理解为多项式对目标函数的逼近\n",
    "$$f(x)=f(x_{\\tiny k})+f'(x_{\\tiny k})(x-x_{\\tiny k})+\\frac {f''(x_{\\tiny k})(x-x_{\\tiny k})}{2}$$\n",
    "\n",
    "这个公式可以理解为等同于目标函数，最优化也就是求解近似解，从极值入手（同上，求解极值点）。那么求极值的必要条件就是一阶导等于0，二阶导不为0，极大极小看方向。\n",
    "那么设$f(x)=0$ ;\n",
    "求近似解的过程：每次迭代从$x_{\\tiny k}$开始，下一个极小值点就是$x_{\\tiny k+1}$，再令函数为0。\n",
    "如图：\n",
    "![这里写图片描述](http://img.blog.csdn.net/20180108092913920?watermark/2/text/aHR0cDovL2Jsb2cuY3Nkbi5uZXQvcXFfMjY5MTE2MTk=/font/5a6L5L2T/fontsize/400/fill/I0JBQkFCMA==/dissolve/70/gravity/SouthEast)\n",
    "为了实现方便，推导一下这个公式：\n",
    "$f(x_{\\tiny k})+f'(x_{\\tiny k})(x-x_{\\tiny k})+\\frac {f''(x_{\\tiny k})(x-x_{\\tiny k})}{2}=0$\n",
    "$x= x_{\\tiny k}-\\frac{f'(x_{\\tiny k})}{f''(x_{\\tiny k})}$ \n",
    "既有：\n",
    "$x_{\\tiny k+1}= x_{\\tiny k}-\\frac{f'(x_{\\tiny k})}{f''(x_{\\tiny k})}*{\\frac{1}{2}}$ \n",
    "\n",
    "*注：以上只讨论了变量个数为1的情形*\n",
    "下面以求平方根的例子理解这个公式：\n",
    "为构建目标函数，引入：\n",
    "$f(x)=x^2-c$ \n",
    "$f'(x)=2x$\n",
    "目标变转化为求根问题（变化过程如上图）\n",
    "一样的泰勒展开，只不过展开到一阶就可以了，二阶没有意义：\n",
    "彼时的函数为\n",
    "$$x_{\\tiny k+1}= x_{\\tiny k}-\\frac{f(x_{\\tiny k})}{f'(x_{\\tiny k})}$$\n",
    " 如求解1024:\n",
    " $c=1024$:,假设$x_0=10$\n",
    "$x_{\\tiny1}= x_{\\tiny 0}-\\frac{f(x_{\\tiny 0})}{f'(x_{\\tiny 0})}= 10-\\frac{10^2-1024}{2*10}=56.2$ \n",
    "$x_{\\tiny2}= x_{\\tiny 1}-\\frac{f(x_{\\tiny 1})}{f'(x_{\\tiny 1})}= 56.2-\\frac{56.2^2-1024}{2*56.2}=37.2103$\n",
    "$\\vdots $\n",
    "$32.3648$\n",
    "$32.0021$\n",
    "$32$\n",
    "每次迭代误差降低：\n",
    "![这里写图片描述](http://img.blog.csdn.net/20180108092948873?watermark/2/text/aHR0cDovL2Jsb2cuY3Nkbi5uZXQvcXFfMjY5MTE2MTk=/font/5a6L5L2T/fontsize/400/fill/I0JBQkFCMA==/dissolve/70/gravity/SouthEast)\n",
    "迭代停止有一个条件可以是$X_k$的变化率趋于0\n"
   ]
  },
  {
   "cell_type": "markdown",
   "metadata": {},
   "source": []
  }
 ],
 "metadata": {
  "anaconda-cloud": {},
  "kernelspec": {
   "display_name": "Python [default]",
   "language": "python",
   "name": "python3"
  },
  "language_info": {
   "codemirror_mode": {
    "name": "ipython",
    "version": 3
   },
   "file_extension": ".py",
   "mimetype": "text/x-python",
   "name": "python",
   "nbconvert_exporter": "python",
   "pygments_lexer": "ipython3",
   "version": "3.5.2"
  }
 },
 "nbformat": 4,
 "nbformat_minor": 1
}
