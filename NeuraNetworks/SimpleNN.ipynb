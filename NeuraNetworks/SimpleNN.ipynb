{
 "cells": [
  {
   "cell_type": "code",
   "execution_count": null,
   "metadata": {
    "collapsed": true
   },
   "outputs": [],
   "source": []
  },
  {
   "cell_type": "markdown",
   "metadata": {},
   "source": [
    "### Simple 3 layers Neural Network\n",
    "![Simple 3 layers Neural Network](./img/SimpleNN.png)"
   ]
  },
  {
   "cell_type": "code",
   "execution_count": 1,
   "metadata": {
    "collapsed": true
   },
   "outputs": [],
   "source": [
    "import numpy as np"
   ]
  },
  {
   "cell_type": "code",
   "execution_count": 8,
   "metadata": {
    "collapsed": true
   },
   "outputs": [],
   "source": [
    "class Network(object):\n",
    "    \n",
    "    def __init__(self, sizes):\n",
    "        self.num_layers = len(sizes)\n",
    "        self.sizes = sizes\n",
    "        self.bias = [np.random.randn(y,1) for y in sizes[1:]]\n",
    "        self.weights = [np.random.randn(y,x) for x,y in zip(sizes[:-1],sizes[1:])]\n",
    "    \n",
    "    def feedforward(self, a):\n",
    "        \"omit a as input\"\n",
    "        for b, w in zip(self.bias, self.weights):\n",
    "            a = sigmoid(np.dot(w,a)+b)\n",
    "            "
   ]
  },
  {
   "cell_type": "code",
   "execution_count": 11,
   "metadata": {
    "collapsed": false
   },
   "outputs": [],
   "source": [
    "#TEST we created a NN which has 2 dimension input layer, 3 hiden layer and 1 output layer \n",
    "net = Network([2,3,1])"
   ]
  },
  {
   "cell_type": "markdown",
   "metadata": {},
   "source": [
    "$weights[0]$ is a Numpy matrix storing the weights connecting the first and second layers of neurons, lets viewing its inside:\n",
    "$weights[0]_{3*2}$,\n",
    "$weights[1]_{1*3}$"
   ]
  },
  {
   "cell_type": "markdown",
   "metadata": {},
   "source": [
    "We then add a feedforward method to the Network class, which, given an input a for the network, returns the corresponding output*  All the method does is applies Equation (1) for each layer:"
   ]
  },
  {
   "cell_type": "code",
   "execution_count": 9,
   "metadata": {
    "collapsed": true
   },
   "outputs": [],
   "source": [
    "def feedforward(self, a):\n",
    "        \"omit a as input\"\n",
    "        for b, w in zip(self.bias, self.weights):\n",
    "            a = sigmoid(np.dot(w,a)+b)"
   ]
  },
  {
   "cell_type": "markdown",
   "metadata": {},
   "source": [
    "we gonna use the $sigmoid$ method as our activation function, it looks like\n",
    "$$\\acute{\\alpha}=\\sigma(w\\alpha+b).......(1)$$ \n",
    "note: $w$ is weights, b is bias and $\\alpha$ is vary layer inputs "
   ]
  },
  {
   "cell_type": "code",
   "execution_count": 4,
   "metadata": {
    "collapsed": true
   },
   "outputs": [],
   "source": [
    "def sigmoid(z):\n",
    "    return 1.0/(1.0+np.exp(-z))"
   ]
  },
  {
   "cell_type": "code",
   "execution_count": null,
   "metadata": {
    "collapsed": true
   },
   "outputs": [],
   "source": []
  }
 ],
 "metadata": {
  "anaconda-cloud": {},
  "kernelspec": {
   "display_name": "Python 3",
   "language": "python",
   "name": "python3"
  },
  "language_info": {
   "codemirror_mode": {
    "name": "ipython",
    "version": 3
   },
   "file_extension": ".py",
   "mimetype": "text/x-python",
   "name": "python",
   "nbconvert_exporter": "python",
   "pygments_lexer": "ipython3",
   "version": "3.5.2"
  }
 },
 "nbformat": 4,
 "nbformat_minor": 1
}
