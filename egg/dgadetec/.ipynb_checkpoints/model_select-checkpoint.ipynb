{
 "cells": [
  {
   "cell_type": "code",
   "execution_count": 9,
   "metadata": {
    "collapsed": true
   },
   "outputs": [],
   "source": [
    "import pandas as pd\n",
    "import numpy as np\n",
    "from sklearn import feature_extraction "
   ]
  },
  {
   "cell_type": "code",
   "execution_count": 7,
   "metadata": {},
   "outputs": [],
   "source": [
    "from dgadetec import dataset\n",
    "import pandas as pd\n",
    "import numpy as np\n",
    "from dgadetec.feature_extractor import  get_feature\n",
    "from sklearn.externals import joblib"
   ]
  },
  {
   "cell_type": "code",
   "execution_count": 8,
   "metadata": {
    "collapsed": true
   },
   "outputs": [],
   "source": [
    "from sklearn.metrics import accuracy_score\n",
    "from sklearn.metrics import f1_score\n",
    "from sklearn import metrics"
   ]
  },
  {
   "cell_type": "markdown",
   "metadata": {},
   "source": [
    "## pre-load data"
   ]
  },
  {
   "cell_type": "code",
   "execution_count": 24,
   "metadata": {
    "collapsed": true
   },
   "outputs": [],
   "source": [
    "import os\n",
    "def load_simple_data():\n",
    "\tfiles = os.listdir('./dgadetec/AlgorithmPowereddomains')\n",
    "\t\n",
    "\tdomain_list = []\n",
    "\tfor f in files:\n",
    "\t\tpath = './dgadetec/AlgorithmPowereddomains/'+f\n",
    "\t\tdomains = pd.read_csv(path,names=['domain'])\n",
    "\t\tdomains = domains['domain'].tolist()\n",
    "\t\tfor item in domains:\n",
    "\t\t\tdomain_list.append(item)\n",
    "\treturn domain_list\n",
    "\n",
    "\n",
    "def load_data():\n",
    "\tif os.path.exists('./dgadetec/resource/train.npy'):\n",
    "\t\ttrain = np.load('./dgadetec/resource/train.npy')\n",
    "\t\treturn train\n",
    "\n",
    "\tdomains360 = pd.read_csv('./dgadetec/resource/360.txt',\n",
    "\t\t\t\t\t\t\theader=None)[[1]]\n",
    "\tdomains360 = domains360.dropna()\n",
    "\tdomains360['label'] = [0]*domains360.shape[0]\n",
    "\n",
    "\t#domains360 = domains360.drop_duplicates()\n",
    "\n",
    "\tdomainsdga = pd.read_csv('./dgadetec/resource/dga-feed.txt', \n",
    "\t\t\t\t\t\t\t\tnames=['domain'], \n",
    "\t\t\t\t\t\t\t\theader=None)\n",
    "\tdomainsdga = domainsdga.dropna()\n",
    "\tdomainsdga['label'] = [0]*domainsdga.shape[0]\n",
    "\n",
    "\tdomain_normal = pd.read_csv('./dgadetec/resource/normal_domains.csv', \n",
    "\t\t\t\t\t\t\tnames=['domain'],\n",
    "\t\t\t\t\t\t\theader=None)\n",
    "\tdomain_normal = domain_normal.dropna()\n",
    "\tdomain_normal['label'] = [1]*domain_normal.shape[0]\n",
    "\n",
    "\n",
    "\ttrain = np.concatenate((domains360.values, domainsdga.values, domain_normal.values),axis=0)\n",
    "\n",
    "\t#train = train.drop_duplicates(subset=1)\n",
    "\t\n",
    "\t#train = np.array(train)\n",
    "\tnp.random.shuffle(train)\n",
    "\tnp.save('./dgadetec/resource/train.npy', train)\n",
    "\n",
    "\treturn train"
   ]
  },
  {
   "cell_type": "code",
   "execution_count": 25,
   "metadata": {},
   "outputs": [
    {
     "name": "stdout",
     "output_type": "stream",
     "text": [
      "all samples=  (2101904, 2)\n",
      "dataY contains: [0 1]\n"
     ]
    }
   ],
   "source": [
    "data = load_data()\n",
    "data = pd.DataFrame(data, columns=['domain', 'label'])\n",
    "data = data.drop_duplicates(subset='domain')\n",
    "data = np.array(data)\n",
    "print(\"all samples= \",data.shape)\n",
    "print(\"dataY contains:\", np.unique(data[:,1]))"
   ]
  },
  {
   "cell_type": "code",
   "execution_count": 26,
   "metadata": {
    "collapsed": true
   },
   "outputs": [],
   "source": [
    "trainX = data[:50000,0]\n",
    "trainY = data[:50000,1].astype(int) \n",
    "testX = data[50000:51000, 0]\n",
    "testY = data[50000:51000, 1].astype(int)"
   ]
  },
  {
   "cell_type": "code",
   "execution_count": 27,
   "metadata": {},
   "outputs": [],
   "source": [
    "trainX = get_feature(trainX)\n",
    "testX = get_feature(testX)"
   ]
  },
  {
   "cell_type": "markdown",
   "metadata": {
    "collapsed": true
   },
   "source": [
    "## various models"
   ]
  },
  {
   "cell_type": "code",
   "execution_count": 28,
   "metadata": {
    "collapsed": true
   },
   "outputs": [],
   "source": [
    "from sklearn.linear_model import LogisticRegression\n",
    "from sklearn.svm import SVC\n",
    "from sklearn.ensemble import GradientBoostingClassifier"
   ]
  },
  {
   "cell_type": "code",
   "execution_count": 29,
   "metadata": {
    "collapsed": true
   },
   "outputs": [],
   "source": [
    "def metric_me(y_true, y_pred):\n",
    "    accuracy = accuracy_score(y_true, y_pred)\n",
    "    f1 =f1_score(y_true, y_pred)\n",
    "    \n",
    "    return accuracy, f1"
   ]
  },
  {
   "cell_type": "code",
   "execution_count": 30,
   "metadata": {},
   "outputs": [
    {
     "name": "stdout",
     "output_type": "stream",
     "text": [
      "simpleLR acc=0.898 f1=0.8946280991735538\n",
      "simpleSVM acc=0.938 f1=0.9358178053830228\n",
      "simpleGBM acc=0.932 f1=0.9293139293139293\n"
     ]
    }
   ],
   "source": [
    "simpleLR = LogisticRegression()\n",
    "simpleLR.fit(trainX, trainY)\n",
    "pred_y = simpleLR.predict(testX)\n",
    "acc, f1 = metric_me(testY, pred_y)\n",
    "print(\"simpleLR acc={} f1={}\".format(acc, f1))\n",
    "######################################################################\n",
    "simpleSVM = SVC()\n",
    "simpleSVM.fit(trainX,trainY)\n",
    "pred_y = simpleSVM.predict(testX)\n",
    "acc, f1 = metric_me(testY, pred_y)\n",
    "print(\"simpleSVM acc={} f1={}\".format(acc, f1))\n",
    "###########################################################################3\n",
    "simpleGBM = GradientBoostingClassifier()\n",
    "simpleGBM.fit(trainX, trainY)\n",
    "pred_y = simpleGBM.predict(testX)\n",
    "acc, f1= metric_me(testY, pred_y)\n",
    "print(\"simpleGBM acc={} f1={}\".format(acc, f1))\n"
   ]
  },
  {
   "cell_type": "code",
   "execution_count": 31,
   "metadata": {},
   "outputs": [
    {
     "data": {
      "text/plain": [
       "['./dgadetec/models/GBM.pkl']"
      ]
     },
     "execution_count": 31,
     "metadata": {},
     "output_type": "execute_result"
    }
   ],
   "source": [
    "from sklearn.externals import joblib\n",
    "joblib.dump(simpleLR, './dgadetec/models/LR.pkl')\n",
    "joblib.dump(simpleSVM, './dgadetec/models/SVM.pkl')\n",
    "joblib.dump(simpleGBM, './dgadetec/models/GBM.pkl')"
   ]
  },
  {
   "cell_type": "code",
   "execution_count": 53,
   "metadata": {},
   "outputs": [
    {
     "name": "stdout",
     "output_type": "stream",
     "text": [
      "0.04083963575661187\n",
      "[0]\n"
     ]
    }
   ],
   "source": [
    "import time\n",
    "\n",
    "start = time.clock()\n",
    "X = get_feature(['www.deweuhydh.com'])\n",
    "pred_result = simpleSVM.predict(X)\n",
    "end = time.clock()\n",
    "\n",
    "print(end-start)\n",
    "print(pred_result)"
   ]
  }
 ],
 "metadata": {
  "kernelspec": {
   "display_name": "Python 3",
   "language": "python",
   "name": "python3"
  },
  "language_info": {
   "codemirror_mode": {
    "name": "ipython",
    "version": 3
   },
   "file_extension": ".py",
   "mimetype": "text/x-python",
   "name": "python",
   "nbconvert_exporter": "python",
   "pygments_lexer": "ipython3",
   "version": "3.6.5"
  }
 },
 "nbformat": 4,
 "nbformat_minor": 2
}
